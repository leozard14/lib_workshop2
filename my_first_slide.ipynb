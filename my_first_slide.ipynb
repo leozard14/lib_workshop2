{
 "cells": [
  {
   "cell_type": "markdown",
   "metadata": {
    "slideshow": {
     "slide_type": "-"
    }
   },
   "source": [
    "<h1><center>Latex Demonstration</center></h1>\n",
    "<div style=\"margin-left:100px;\">\n",
    "To show the following formula, make sure \"markdown\" is chosen for rendering in Jupyter Notebook and then type:<br><br>\n",
    "<div style=\"margin-left:100px;\">&#92;begin{equation*}</div>\n",
    "<div style=\"margin-left:100px;\">s = \\sqrt \\frac{\\sum_{k=1}^n\\left(x-\\overline{x}\\right)^2}{n}</div>\n",
    "<div style=\"margin-left:100px;\">&#92;end{equation*}</div>\n",
    "</div>\n",
    "\n",
    "\\begin{equation*}\n",
    "s = \\sqrt \\frac{\\sum_{k=1}^n\\left(x-\\overline{x}\\right)^2}{n} \n",
    "\\end{equation*}"
   ]
  },
  {
   "cell_type": "markdown",
   "metadata": {
    "slideshow": {
     "slide_type": "-"
    }
   },
   "source": [
    "<h1><center>Running Jupyter Notebook in Slideshow Mode</center></h1>\n",
    "<div style=\"margin-left:100px;\">\n",
    " At the command prompt, type the following:<br><br><br>\n",
    "        <div style=\"font-size:20px;\"><center>jupyter nbconvert &lt;your Jupyter Notebook file name&gt;.ipynb --to slides --post serve</center></div>\n",
    "    <br><br><br>\n",
    "</div>"
   ]
  }
 ],
 "metadata": {
  "kernelspec": {
   "display_name": "Python 3",
   "language": "python",
   "name": "python3"
  },
  "language_info": {
   "codemirror_mode": {
    "name": "ipython",
    "version": 3
   },
   "file_extension": ".py",
   "mimetype": "text/x-python",
   "name": "python",
   "nbconvert_exporter": "python",
   "pygments_lexer": "ipython3",
   "version": "3.6.4"
  }
 },
 "nbformat": 4,
 "nbformat_minor": 2
}
